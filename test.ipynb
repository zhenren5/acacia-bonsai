{
 "cells": [
  {
   "cell_type": "code",
   "execution_count": null,
   "metadata": {},
   "outputs": [],
   "source": [
    "from IPython.display import display\n",
    "import spot\n",
    "spot.setup()\n",
    "auto=\"\"\"\n",
    "HOA: v1\n",
    "States: 8\n",
    "Start: 5\n",
    "AP: 6 \"g2\" \"g0\" \"g1\" \"r0\" \"r1\" \"r2\"\n",
    "acc-name: Buchi\n",
    "Acceptance: 1 Inf(0)\n",
    "properties: trans-labels explicit-labels state-acc stutter-invariant\n",
    "properties: very-weak\n",
    "--BODY--\n",
    "State: 0 {0}\n",
    "[t] 0\n",
    "State: 1 {0}\n",
    "[!1] 1\n",
    "State: 2 {0}\n",
    "[!2] 2\n",
    "State: 3 {0}\n",
    "[!0] 3\n",
    "State: 4\n",
    "[0&1 | 0&2 | 1&2] 0\n",
    "[!0&!1&3 | !1&!2&3] 1\n",
    "[!0&!2&4 | !1&!2&4] 2\n",
    "[!0&!1&5 | !0&!2&5] 3\n",
    "[!0&!1 | !0&!2 | !1&!2] 4\n",
    "State: 5\n",
    "[0&1 | 0&2 | 1&2] 0\n",
    "[!0&!1&3 | !1&!2&3] 1\n",
    "[!0&!2&4 | !1&!2&4] 2\n",
    "[!0&!1&5 | !0&!2&5] 3\n",
    "[!0&!1 | !0&!2 | !1&!2] 4\n",
    "[!0&1&!2&3&4&5] 6\n",
    "[1&3] 7\n",
    "State: 6\n",
    "[1&!3&4] 0\n",
    "State: 7\n",
    "[1&4] 0\n",
    "--END--\n",
    "\"\"\"\n",
    "\n",
    "for a in spot.automata(auto):\n",
    "    display(a)"
   ]
  }
 ],
 "metadata": {
  "kernelspec": {
   "display_name": "Python 3",
   "language": "python",
   "name": "python3"
  },
  "language_info": {
   "name": "python",
   "version": "3.8.10"
  },
  "orig_nbformat": 4
 },
 "nbformat": 4,
 "nbformat_minor": 2
}
